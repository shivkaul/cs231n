{
 "cells": [
  {
   "cell_type": "code",
   "execution_count": 1,
   "metadata": {
    "collapsed": false
   },
   "outputs": [
    {
     "name": "stdout",
     "output_type": "stream",
     "text": [
      "[[   2.    0.    0. ...,   54.   52.   59.]\n",
      " [   0.    0.    0. ...,  219.  223.  224.]\n",
      " [   0.    0.    0. ...,  255.  249.  248.]\n",
      " ..., \n",
      " [   0.    0.    4. ...,  236.  232.  246.]\n",
      " [   0.    0.    2. ...,  239.  239.  255.]\n",
      " [   0.    0.    1. ...,  243.  246.  255.]]\n"
     ]
    }
   ],
   "source": [
    "#data preprocessing\n",
    "\n",
    "import numpy as np\n",
    "from PIL import Image\n",
    "import glob\n",
    "import os\n",
    "\n",
    "ctr = 0\n",
    "NKI_crops_x = np.zeros((107, 770, 32, 32, 3))\n",
    "NKI_crops_y = np.zeros((107, 770, 32, 32, 3))\n",
    "os.chdir(\"C:\\\\Users\\\\Shiv\\\\Documents\\\\cs231n project\\\\EpiStromaTrainingImages\\\\3002564s3\\\\NKI_Training\")\n",
    "for file in glob.glob(\"0.*\"):\n",
    "  img = Image.open(file)\n",
    "  crop_no = 0\n",
    "  for i in range(0, np.shape(img)[0] - 32, 32):\n",
    "    for j in range(0, np.shape(img)[1] - 32, 32):\n",
    "      img2 = img.crop((j,i,j+32,i+32))\n",
    "      NKI_crops_x[ctr, crop_no, :, :, :] = img2\n",
    "      crop_no += 1\n",
    "  ctr += 1\n",
    "\n",
    "os.chdir(\"C:\\\\Users\\\\Shiv\\\\Documents\\\\cs231n project\\\\EpiStromaTrainingImages\\\\3002564s3\\\\NKI_Training\\\\labeled\")\n",
    "ctr = 0\n",
    "for file in glob.glob(\"*\"):\n",
    "  img = Image.open(file)\n",
    "  crop_no = 0\n",
    "  for i in range(0, np.shape(img)[0] - 32, 32):\n",
    "    for j in range(0, np.shape(img)[1] - 32, 32):\n",
    "      img2 = img.crop((j,i,j+32,i+32))\n",
    "      NKI_crops_y[ctr, crop_no, :, :, :] = img2\n",
    "      crop_no += 1\n",
    "  ctr += 1\n",
    "\n",
    "#os.chdir(\"C:\\\\Users\\\\Shiv\\\\Documents\\\\cs231n project\\\\EpiStromaTrainingImages\\\\3002564s3\")\n",
    "#np.savetxt(\"NKI_crops_x\", NKI_crops_x)\n",
    "#np.savetxt(\"NKI_crops_y\", NKI_crops_y)\n",
    "\n",
    "print(NKI_crops_y[0,0,:,:,1])\n",
    "\n",
    "            \n",
    "\n",
    "    "
   ]
  },
  {
   "cell_type": "code",
   "execution_count": 19,
   "metadata": {
    "collapsed": false
   },
   "outputs": [
    {
     "name": "stdout",
     "output_type": "stream",
     "text": [
      "[[  0   0   0 ...,   0   0   0]\n",
      " [  0   0   0 ...,   0   0   0]\n",
      " [  0   0   0 ...,   0   0   0]\n",
      " ..., \n",
      " [  0   5   4 ...,   7   0  16]\n",
      " [  4   0   0 ...,   0   1   0]\n",
      " [206 253 188 ...,  41   0   6]]\n"
     ]
    },
    {
     "ename": "ValueError",
     "evalue": "The truth value of an array with more than one element is ambiguous. Use a.any() or a.all()",
     "output_type": "error",
     "traceback": [
      "\u001b[0;31m---------------------------------------------------------------------------\u001b[0m",
      "\u001b[0;31mValueError\u001b[0m                                Traceback (most recent call last)",
      "\u001b[0;32m<ipython-input-19-91a104b8afa6>\u001b[0m in \u001b[0;36m<module>\u001b[0;34m()\u001b[0m\n\u001b[1;32m     20\u001b[0m             \u001b[0mNKI_labels\u001b[0m\u001b[1;33m[\u001b[0m\u001b[0mf\u001b[0m\u001b[1;33m,\u001b[0m\u001b[0mc\u001b[0m\u001b[1;33m]\u001b[0m \u001b[1;33m=\u001b[0m \u001b[1;36m3\u001b[0m\u001b[1;33m\u001b[0m\u001b[0m\n\u001b[1;32m     21\u001b[0m \u001b[1;33m\u001b[0m\u001b[0m\n\u001b[0;32m---> 22\u001b[0;31m \u001b[1;32mif\u001b[0m \u001b[0many\u001b[0m\u001b[1;33m(\u001b[0m\u001b[1;36m4\u001b[0m\u001b[1;33m==\u001b[0m\u001b[0mNKI_labels\u001b[0m\u001b[1;33m)\u001b[0m\u001b[1;33m:\u001b[0m\u001b[1;33m\u001b[0m\u001b[0m\n\u001b[0m\u001b[1;32m     23\u001b[0m     \u001b[0mprint\u001b[0m\u001b[1;33m(\u001b[0m\u001b[1;34m'error'\u001b[0m\u001b[1;33m)\u001b[0m\u001b[1;33m\u001b[0m\u001b[0m\n",
      "\u001b[0;31mValueError\u001b[0m: The truth value of an array with more than one element is ambiguous. Use a.any() or a.all()"
     ]
    }
   ],
   "source": [
    "from scipy import stats\n",
    "\n",
    "NKI_labels = np.zeros((107,770))\n",
    "\n",
    "#Labeling scheme:\n",
    "#1 tumor cells, 2 non-tumor cells, 3 other\n",
    "print(NKI_crops_y[f,c,:,:,0].astype(int))\n",
    "\n",
    "for f in range(0,107):\n",
    "    for c in range(0,770):\n",
    "        redval = np.argmax(np.bincount(np.reshape(NKI_crops_y[f,c,:,:,0],32*32).astype(int)))\n",
    "        greenval = np.argmax(np.bincount(np.reshape(NKI_crops_y[f,c,:,:,1],32*32).astype(int)))\n",
    "        if redval>100:\n",
    "            NKI_labels[f,c] = 1\n",
    "        elif greenval>100:\n",
    "            NKI_labels[f,c] = 2\n",
    "        elif redval>100 and greenval>100:\n",
    "            NKI_labels[f,c] = 4 #This condition should never happen\n",
    "        else:\n",
    "            NKI_labels[f,c] = 3\n"
   ]
  },
  {
   "cell_type": "code",
   "execution_count": 18,
   "metadata": {
    "collapsed": false
   },
   "outputs": [],
   "source": []
  },
  {
   "cell_type": "code",
   "execution_count": null,
   "metadata": {
    "collapsed": true
   },
   "outputs": [],
   "source": []
  }
 ],
 "metadata": {
  "kernelspec": {
   "display_name": "Python 3",
   "language": "python",
   "name": "python3"
  },
  "language_info": {
   "codemirror_mode": {
    "name": "ipython",
    "version": 3
   },
   "file_extension": ".py",
   "mimetype": "text/x-python",
   "name": "python",
   "nbconvert_exporter": "python",
   "pygments_lexer": "ipython3",
   "version": "3.6.0"
  }
 },
 "nbformat": 4,
 "nbformat_minor": 2
}
