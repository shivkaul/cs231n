{
 "cells": [
  {
   "cell_type": "code",
   "execution_count": 1,
   "metadata": {
    "collapsed": false
   },
   "outputs": [
    {
     "name": "stdout",
     "output_type": "stream",
     "text": [
      "[[[   0.    2.   30.]\n",
      "  [   0.    0.   18.]\n",
      "  [   8.    0.    0.]\n",
      "  ..., \n",
      "  [   0.   54.    0.]\n",
      "  [   0.   52.    0.]\n",
      "  [   0.   59.    0.]]\n",
      "\n",
      " [[   0.    0.   18.]\n",
      "  [   0.    0.   11.]\n",
      "  [   7.    0.    0.]\n",
      "  ..., \n",
      "  [  52.  219.   54.]\n",
      "  [  46.  223.   55.]\n",
      "  [  42.  224.   53.]]\n",
      "\n",
      " [[   0.    0.    0.]\n",
      "  [   0.    0.    0.]\n",
      "  [   0.    0.    0.]\n",
      "  ..., \n",
      "  [  25.  255.   21.]\n",
      "  [  14.  249.    7.]\n",
      "  [  10.  248.    4.]]\n",
      "\n",
      " ..., \n",
      " [[   8.    0.    0.]\n",
      "  [   3.    0.    0.]\n",
      "  [   0.    4.    0.]\n",
      "  ..., \n",
      "  [  27.  236.   23.]\n",
      "  [  38.  232.   37.]\n",
      "  [   9.  246.   16.]]\n",
      "\n",
      " [[  11.    0.    0.]\n",
      "  [   4.    0.    0.]\n",
      "  [   0.    2.    0.]\n",
      "  ..., \n",
      "  [  23.  239.   14.]\n",
      "  [  31.  239.   23.]\n",
      "  [   0.  255.    0.]]\n",
      "\n",
      " [[  14.    0.    0.]\n",
      "  [   6.    0.    0.]\n",
      "  [   0.    1.    0.]\n",
      "  ..., \n",
      "  [  20.  243.    5.]\n",
      "  [  23.  246.    7.]\n",
      "  [   0.  255.    0.]]]\n"
     ]
    }
   ],
   "source": [
    "#data preprocessing\n",
    "\n",
    "import numpy as np\n",
    "from PIL import Image\n",
    "import glob\n",
    "import os\n",
    "\n",
    "ctr = 0\n",
    "NKI_crops_x = np.zeros((107, 770, 32, 32, 3))\n",
    "NKI_crops_y = np.zeros((107, 770, 32, 32, 3))\n",
    "os.chdir(\"C:\\\\Users\\\\Shiv\\\\Documents\\\\cs231n project\\\\EpiStromaTrainingImages\\\\3002564s3\\\\NKI_Training\")\n",
    "for file in glob.glob(\"0.*\"):\n",
    "  img = Image.open(file)\n",
    "  crop_no = 0\n",
    "  for i in range(0, np.shape(img)[0] - 32, 32):\n",
    "    for j in range(0, np.shape(img)[1] - 32, 32):\n",
    "      img2 = img.crop((j,i,j+32,i+32))\n",
    "      NKI_crops_x[ctr, crop_no, :, :, :] = img2\n",
    "      crop_no += 1\n",
    "  ctr += 1\n",
    "\n",
    "os.chdir(\"C:\\\\Users\\\\Shiv\\\\Documents\\\\cs231n project\\\\EpiStromaTrainingImages\\\\3002564s3\\\\NKI_Training\\\\labeled\")\n",
    "ctr = 0\n",
    "for file in glob.glob(\"*\"):\n",
    "  img = Image.open(file)\n",
    "  crop_no = 0\n",
    "  for i in range(0, np.shape(img)[0] - 32, 32):\n",
    "    for j in range(0, np.shape(img)[1] - 32, 32):\n",
    "      img2 = img.crop((j,i,j+32,i+32))\n",
    "      NKI_crops_y[ctr, crop_no, :, :, :] = img2\n",
    "      crop_no += 1\n",
    "  ctr += 1\n",
    "\n",
    "#os.chdir(\"C:\\\\Users\\\\Shiv\\\\Documents\\\\cs231n project\\\\EpiStromaTrainingImages\\\\3002564s3\")\n",
    "#np.savetxt(\"NKI_crops_x\", NKI_crops_x)\n",
    "#np.savetxt(\"NKI_crops_y\", NKI_crops_y)\n",
    "\n",
    "print(NKI_crops_y[0,0,:,:,1])\n",
    "\n",
    "            \n",
    "\n",
    "    "
   ]
  },
  {
   "cell_type": "code",
   "execution_count": 9,
   "metadata": {
    "collapsed": false
   },
   "outputs": [
    {
     "name": "stdout",
     "output_type": "stream",
     "text": [
      "[[  0.   7.   8.   3.   0.   0.   0.   0.   8.]\n",
      " [  0.   0.   4.   7.   7.   1.   0.   0.   0.]\n",
      " [  0.   0.   0.  11.  24.  21.   6.   0.   0.]\n",
      " [  0.   0.   0.  10.  29.  34.  20.   0.   0.]\n",
      " [  0.   0.   0.   3.  17.  24.  15.  14.   0.]\n",
      " [  0.   0.   0.   0.   0.   4.   4.   0.   0.]\n",
      " [  0.   0.   0.   0.   0.   0.   3.   1.   0.]\n",
      " [  0.   0.   0.   0.   0.   0.  10.  20.  11.]\n",
      " [  0.   3.   4.   0.   0.   0.   6.  22.  29.]]\n",
      "[[  0.   0.   0.   1.   5.   6.   3.   0.   0.]\n",
      " [  0.   0.   0.   0.   0.   3.   9.  19.  14.]\n",
      " [  6.   5.   1.   0.   0.   0.   4.  12.  15.]\n",
      " [  9.   9.   4.   0.   0.   0.   0.   7.  10.]\n",
      " [  6.   8.   4.   0.   0.   0.   0.  24.  18.]\n",
      " [  1.   3.   4.   3.   0.   0.   0.  10.  25.]\n",
      " [  0.   0.   2.   5.   4.   0.   0.   0.  32.]\n",
      " [  1.   0.   1.   4.   3.   0.   0.   0.   2.]\n",
      " [  2.   0.   0.   0.   0.   0.   0.   0.   0.]]\n",
      "[[ 11.   0.   0.   0.   0.   0.   5.   9.   9.]\n",
      " [  0.   0.   0.   0.   0.   0.   0.   0.   5.]\n",
      " [  0.   2.   5.   0.   0.   0.   0.   0.   0.]\n",
      " [  0.   4.   7.   2.   0.   0.   0.   0.   0.]\n",
      " [  4.   5.   7.   4.   0.   0.   0.   0.   0.]\n",
      " [ 14.   7.   2.   2.   5.  11.  11.   7.   0.]\n",
      " [ 18.   5.   0.   2.  14.  28.  32.  18.   2.]\n",
      " [ 14.   2.   0.   0.  16.  32.  37.  23.   0.]\n",
      " [  0.   0.   0.   2.  11.  19.  23.  21.   4.]]\n"
     ]
    }
   ],
   "source": [
    "NKI_labels = np.zeros(107,770)\n",
    "\n",
    "# \n",
    "\n",
    "for f in range(0,107):\n",
    "    for c in range(0,770):\n",
    "        NKI_labels[f,c] = \n",
    "        \n",
    "\n",
    "print(NKI_crops_y[0,0,1:10,1:10,0])\n",
    "print(NKI_crops_y[0,0,1:10,1:10,1])\n",
    "print(NKI_crops_y[0,0,1:10,1:10,2])"
   ]
  },
  {
   "cell_type": "code",
   "execution_count": null,
   "metadata": {
    "collapsed": true
   },
   "outputs": [],
   "source": []
  }
 ],
 "metadata": {
  "kernelspec": {
   "display_name": "Python 3",
   "language": "python",
   "name": "python3"
  },
  "language_info": {
   "codemirror_mode": {
    "name": "ipython",
    "version": 3
   },
   "file_extension": ".py",
   "mimetype": "text/x-python",
   "name": "python",
   "nbconvert_exporter": "python",
   "pygments_lexer": "ipython3",
   "version": "3.6.0"
  }
 },
 "nbformat": 4,
 "nbformat_minor": 2
}
