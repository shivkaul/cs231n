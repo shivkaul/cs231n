{
 "cells": [
  {
   "cell_type": "code",
   "execution_count": 1,
   "metadata": {
    "collapsed": false
   },
   "outputs": [
    {
     "name": "stdout",
     "output_type": "stream",
     "text": [
      "[[   2.    0.    0. ...,   54.   52.   59.]\n",
      " [   0.    0.    0. ...,  219.  223.  224.]\n",
      " [   0.    0.    0. ...,  255.  249.  248.]\n",
      " ..., \n",
      " [   0.    0.    4. ...,  236.  232.  246.]\n",
      " [   0.    0.    2. ...,  239.  239.  255.]\n",
      " [   0.    0.    1. ...,  243.  246.  255.]]\n"
     ]
    }
   ],
   "source": [
    "#data preprocessing\n",
    "\n",
    "import numpy as np\n",
    "from PIL import Image\n",
    "import glob\n",
    "import os\n",
    "\n",
    "ctr = 0\n",
    "NKI_crops_x = np.zeros((107, 770, 32, 32, 3))\n",
    "NKI_crops_y = np.zeros((107, 770, 32, 32, 3))\n",
    "os.chdir(\"C:\\\\Users\\\\Shiv\\\\Documents\\\\cs231n project\\\\EpiStromaTrainingImages\\\\3002564s3\\\\NKI_Training\")\n",
    "for file in glob.glob(\"0.*\"):\n",
    "  img = Image.open(file)\n",
    "  crop_no = 0\n",
    "  for i in range(0, np.shape(img)[0] - 32, 32):\n",
    "    for j in range(0, np.shape(img)[1] - 32, 32):\n",
    "      img2 = img.crop((j,i,j+32,i+32))\n",
    "      NKI_crops_x[ctr, crop_no, :, :, :] = img2\n",
    "      crop_no += 1\n",
    "  ctr += 1\n",
    "\n",
    "os.chdir(\"C:\\\\Users\\\\Shiv\\\\Documents\\\\cs231n project\\\\EpiStromaTrainingImages\\\\3002564s3\\\\NKI_Training\\\\labeled\")\n",
    "ctr = 0\n",
    "for file in glob.glob(\"*\"):\n",
    "  img = Image.open(file)\n",
    "  crop_no = 0\n",
    "  for i in range(0, np.shape(img)[0] - 32, 32):\n",
    "    for j in range(0, np.shape(img)[1] - 32, 32):\n",
    "      img2 = img.crop((j,i,j+32,i+32))\n",
    "      NKI_crops_y[ctr, crop_no, :, :, :] = img2\n",
    "      crop_no += 1\n",
    "  ctr += 1\n",
    "\n",
    "#os.chdir(\"C:\\\\Users\\\\Shiv\\\\Documents\\\\cs231n project\\\\EpiStromaTrainingImages\\\\3002564s3\")\n",
    "#np.savetxt(\"NKI_crops_x\", NKI_crops_x)\n",
    "#np.savetxt(\"NKI_crops_y\", NKI_crops_y)\n",
    "\n",
    "print(NKI_crops_y[0,0,:,:,1])\n",
    "\n",
    "            \n",
    "\n",
    "    "
   ]
  },
  {
   "cell_type": "code",
   "execution_count": 15,
   "metadata": {
    "collapsed": false
   },
   "outputs": [],
   "source": [
    "#print out crops\n",
    "\n",
    "import scipy.misc\n",
    "\n",
    "\n",
    "image_array = NKI_crops_y[21, 200, :, :, :]\n",
    "scipy.misc.toimage(image_array, cmin=0.0, cmax=255.0).save(\"C:\\\\Users\\\\Shiv\\\\Documents\\\\cs231n project\\\\outy1.jpg\")\n",
    "\n",
    "\n",
    "image_array = NKI_crops_x[21, 200, :, :, :]\n",
    "scipy.misc.toimage(image_array, cmin=0.0, cmax=255.0).save(\"C:\\\\Users\\\\Shiv\\\\Documents\\\\cs231n project\\\\outx1.jpg\")\n"
   ]
  },
  {
   "cell_type": "code",
   "execution_count": 17,
   "metadata": {
    "collapsed": false
   },
   "outputs": [],
   "source": [
    "from scipy import stats\n",
    "\n",
    "NKI_labels = np.zeros((107,770))\n",
    "\n",
    "#Labeling scheme:\n",
    "#1 tumor cells, 2 non-tumor cells, 3 other\n",
    "\n",
    "for f in range(0,107):\n",
    "    for c in range(0,770):\n",
    "        redval = np.argmax(np.bincount(np.reshape(NKI_crops_y[f,c,:,:,0],32*32).astype(int)))\n",
    "        greenval = np.argmax(np.bincount(np.reshape(NKI_crops_y[f,c,:,:,1],32*32).astype(int)))\n",
    "        if redval>100:\n",
    "            NKI_labels[f,c] = 1\n",
    "        elif greenval>100:\n",
    "            NKI_labels[f,c] = 2\n",
    "        elif redval>100 and greenval>100:\n",
    "            NKI_labels[f,c] = 4 #This condition should never happen\n",
    "        else:\n",
    "            NKI_labels[f,c] = 3\n"
   ]
  },
  {
   "cell_type": "code",
   "execution_count": 18,
   "metadata": {
    "collapsed": false
   },
   "outputs": [],
   "source": [
    "#load testing and validation data\n",
    "\n",
    "ctr = 0\n",
    "VGH_crops_x = np.zeros((51, 770, 32, 32, 3))\n",
    "VGH_crops_y = np.zeros((51, 770, 32, 32, 3))\n",
    "os.chdir(\"C:\\\\Users\\\\Shiv\\\\Documents\\\\cs231n project\\\\EpiStromaTrainingImages\\\\3002564s3\\\\VGH_Training\")\n",
    "for file in glob.glob(\"0.*\"):\n",
    "  img = Image.open(file)\n",
    "  crop_no = 0\n",
    "  for i in range(0, np.shape(img)[0] - 32, 32):\n",
    "    for j in range(0, np.shape(img)[1] - 32, 32):\n",
    "      img2 = img.crop((j,i,j+32,i+32))\n",
    "      VGH_crops_x[ctr, crop_no, :, :, :] = img2\n",
    "      crop_no += 1\n",
    "  ctr += 1\n",
    "\n",
    "os.chdir(\"C:\\\\Users\\\\Shiv\\\\Documents\\\\cs231n project\\\\EpiStromaTrainingImages\\\\3002564s3\\\\VGH_Training\\\\labeled\")\n",
    "ctr = 0\n",
    "for file in glob.glob(\"*\"):\n",
    "  img = Image.open(file)\n",
    "  crop_no = 0\n",
    "  for i in range(0, np.shape(img)[0] - 32, 32):\n",
    "    for j in range(0, np.shape(img)[1] - 32, 32):\n",
    "      img2 = img.crop((j,i,j+32,i+32))\n",
    "      VGH_crops_y[ctr, crop_no, :, :, :] = img2\n",
    "      crop_no += 1\n",
    "  ctr += 1\n"
   ]
  },
  {
   "cell_type": "code",
   "execution_count": null,
   "metadata": {
    "collapsed": true
   },
   "outputs": [],
   "source": [
    "#create labels for testing and validation data\n",
    "from scipy import stats\n",
    "\n",
    "VGH_labels = np.zeros((107,770))\n",
    "\n",
    "#Labeling scheme:\n",
    "#1 tumor cells, 2 non-tumor cells, 3 other\n",
    "\n",
    "for f in range(0,107):\n",
    "    for c in range(0,770):\n",
    "        redval = np.argmax(np.bincount(np.reshape(VGH_crops_y[f,c,:,:,0],32*32).astype(int)))\n",
    "        greenval = np.argmax(np.bincount(np.reshape(VGH_crops_y[f,c,:,:,1],32*32).astype(int)))\n",
    "        if redval>100:\n",
    "            VGH_labels[f,c] = 1\n",
    "        elif greenval>100:\n",
    "            VGH_labels[f,c] = 2\n",
    "        elif redval>100 and greenval>100:\n",
    "            VGH_labels[f,c] = 4 #This condition should never happen\n",
    "        else:\n",
    "            VGH_labels[f,c] = 3"
   ]
  }
 ],
 "metadata": {
  "kernelspec": {
   "display_name": "Python 3",
   "language": "python",
   "name": "python3"
  },
  "language_info": {
   "codemirror_mode": {
    "name": "ipython",
    "version": 3
   },
   "file_extension": ".py",
   "mimetype": "text/x-python",
   "name": "python",
   "nbconvert_exporter": "python",
   "pygments_lexer": "ipython3",
   "version": "3.6.0"
  }
 },
 "nbformat": 4,
 "nbformat_minor": 2
}
